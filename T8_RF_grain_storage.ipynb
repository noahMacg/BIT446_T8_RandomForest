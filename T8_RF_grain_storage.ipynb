{
 "cells": [
  {
   "cell_type": "markdown",
   "id": "2d73be5f",
   "metadata": {},
   "source": [
    "**=====================================================**  \n",
    "# Grain Storage Analysis\n",
    "\n",
    "Noah MacGillivray | BIT-446 Assignment(T8) | Summer 2025 \n",
    "\n",
    "Random Forest \n",
    "\n",
    "**Environment:** Ubuntu, VS Code, Python Version: 3.10.12  \n",
    "\n",
    "**=====================================================**\n",
    "\n",
    "## Package Imports "
   ]
  },
  {
   "cell_type": "code",
   "execution_count": 37,
   "id": "d0060336",
   "metadata": {},
   "outputs": [
    {
     "name": "stdout",
     "output_type": "stream",
     "text": [
      "Environment setup complete!\n"
     ]
    }
   ],
   "source": [
    "# Data manipulation and analysis\n",
    "import pandas as pd\n",
    "import numpy as np\n",
    "\n",
    "# File handling\n",
    "import os\n",
    "import openpyxl\n",
    "\n",
    "# Machine learning\n",
    "import sklearn\n",
    "\n",
    "# Data visualization\n",
    "import matplotlib.pyplot as plt\n",
    "import seaborn as sns\n",
    "\n",
    "# Display options\n",
    "pd.set_option('display.max_columns', None)\n",
    "\n",
    "print(\"Environment setup complete!\")"
   ]
  },
  {
   "cell_type": "markdown",
   "id": "8882f7d7",
   "metadata": {},
   "source": [
    "## Data Import and Initial Exploration \n",
    "The grain storage bin data is read in, head/tail/summary are printed to\n",
    "ensure proper import and view summary. "
   ]
  },
  {
   "cell_type": "code",
   "execution_count": null,
   "id": "020c00aa",
   "metadata": {},
   "outputs": [
    {
     "name": "stdout",
     "output_type": "stream",
     "text": [
      "Sheets loaded successfully\n",
      "\n",
      "Data sheet TrainTestData head:\n",
      "\n",
      "    record  product dryer   warranty  stdbushels  purchased\n",
      "0       1    Elite    No   Extended       36204          1\n",
      "1       2    Elite    No  InService       22001          0\n",
      "2       3  Premium    No   Extended       10583          0\n",
      "3       4  Premium    No   Extended       40217          0\n",
      "4       5  Premium    No   Extended       15910          0\n",
      "\n",
      "Data sheet TrainTestData tail:\n",
      "\n",
      "       record  product dryer   warranty  stdbushels  purchased\n",
      "1195    1196  Premium    No   Extended       46788          0\n",
      "1196    1197    Elite    No  InService       12952          0\n",
      "1197    1198    Basic   Yes   Standard       39862          0\n",
      "1198    1199    Basic   Yes   Standard       32463          0\n",
      "1199    1200  Premium    No   Extended       27140          0 \n",
      "\n",
      "Data sheet TrainTestData information:\n",
      "\n",
      "<class 'pandas.core.frame.DataFrame'>\n",
      "RangeIndex: 1200 entries, 0 to 1199\n",
      "Data columns (total 6 columns):\n",
      " #   Column      Non-Null Count  Dtype \n",
      "---  ------      --------------  ----- \n",
      " 0   record      1200 non-null   int64 \n",
      " 1   product     1200 non-null   object\n",
      " 2   dryer       1200 non-null   object\n",
      " 3   warranty    1200 non-null   object\n",
      " 4   stdbushels  1200 non-null   int64 \n",
      " 5   purchased   1200 non-null   int64 \n",
      "dtypes: int64(3), object(3)\n",
      "memory usage: 56.4+ KB\n",
      "\n",
      "TrainTestData missing iformation:  False\n",
      "\n",
      "Data sheet TrainTestData feature variable information:\n"
     ]
    },
    {
     "data": {
      "text/html": [
       "<div>\n",
       "<style scoped>\n",
       "    .dataframe tbody tr th:only-of-type {\n",
       "        vertical-align: middle;\n",
       "    }\n",
       "\n",
       "    .dataframe tbody tr th {\n",
       "        vertical-align: top;\n",
       "    }\n",
       "\n",
       "    .dataframe thead th {\n",
       "        text-align: right;\n",
       "    }\n",
       "</style>\n",
       "<table border=\"1\" class=\"dataframe\">\n",
       "  <thead>\n",
       "    <tr style=\"text-align: right;\">\n",
       "      <th></th>\n",
       "      <th>Unnamed: 0</th>\n",
       "      <th>Unnamed: 1</th>\n",
       "    </tr>\n",
       "  </thead>\n",
       "  <tbody>\n",
       "    <tr>\n",
       "      <th>0</th>\n",
       "      <td>Variable</td>\n",
       "      <td>Definition</td>\n",
       "    </tr>\n",
       "    <tr>\n",
       "      <th>1</th>\n",
       "      <td>record</td>\n",
       "      <td>record number (i.e., index field)</td>\n",
       "    </tr>\n",
       "    <tr>\n",
       "      <th>2</th>\n",
       "      <td>product</td>\n",
       "      <td>grain storage bin product type</td>\n",
       "    </tr>\n",
       "    <tr>\n",
       "      <th>3</th>\n",
       "      <td>dryer</td>\n",
       "      <td>0 = dryer not provided for a given grain storage bin; 1 = dryer provided for a given grain storage bin</td>\n",
       "    </tr>\n",
       "    <tr>\n",
       "      <th>4</th>\n",
       "      <td>warranty</td>\n",
       "      <td>type of warranty offered for a given grain storage bin</td>\n",
       "    </tr>\n",
       "    <tr>\n",
       "      <th>5</th>\n",
       "      <td>stdbushels</td>\n",
       "      <td>volume of the grain storage bin, in standard bushels</td>\n",
       "    </tr>\n",
       "    <tr>\n",
       "      <th>6</th>\n",
       "      <td>purchased</td>\n",
       "      <td>0 =grain storage bin was not purchased; 1 = grain storage bin was purchased; this is the target variable for the model</td>\n",
       "    </tr>\n",
       "  </tbody>\n",
       "</table>\n",
       "</div>"
      ],
      "text/plain": [
       "   Unnamed: 0  \\\n",
       "0    Variable   \n",
       "1      record   \n",
       "2     product   \n",
       "3       dryer   \n",
       "4    warranty   \n",
       "5  stdbushels   \n",
       "6   purchased   \n",
       "\n",
       "                                                                                                               Unnamed: 1  \n",
       "0                                                                                                              Definition  \n",
       "1                                                                                       record number (i.e., index field)  \n",
       "2                                                                                          grain storage bin product type  \n",
       "3                  0 = dryer not provided for a given grain storage bin; 1 = dryer provided for a given grain storage bin  \n",
       "4                                                                  type of warranty offered for a given grain storage bin  \n",
       "5                                                                   volume of the grain storage bin, in standard bushels   \n",
       "6  0 =grain storage bin was not purchased; 1 = grain storage bin was purchased; this is the target variable for the model  "
      ]
     },
     "metadata": {},
     "output_type": "display_data"
    }
   ],
   "source": [
    "try:\n",
    "    grain_storage = pd.read_excel('BIT-446-RS-T8-GrainStorageBins1.xlsx', sheet_name='TrainTestData')\n",
    "    df_info = pd.read_excel('BIT-446-RS-T8-GrainStorageBins1.xlsx', sheet_name='Info')\n",
    "    print(\"Sheets loaded successfully\")\n",
    "    \n",
    "except FileNotFoundError:\n",
    "    print(\"Error: File not found.\")\n",
    "    \n",
    "except ValueError as e:\n",
    "    print(f\"Error: Sheet name issue - {e}\")\n",
    "    \n",
    "except Exception as e:\n",
    "    print(f\"Unexpected error: {e}\")\n",
    "\n",
    "# Print head\n",
    "print(\"\\nData sheet TrainTestData head:\")\n",
    "print(\"\\n\",grain_storage.head())\n",
    "\n",
    "# Print tail\n",
    "print(\"\\nData sheet TrainTestData tail:\")\n",
    "print(\"\\n\", grain_storage.tail(), \"\\n\")\n",
    "\n",
    "# Display df info\n",
    "print(\"Data sheet TrainTestData information:\\n\")\n",
    "grain_storage.info()\n",
    "\n",
    "# Check for missing values \n",
    "df_check_na = grain_storage.isnull().any().any()\n",
    "print(\"\\nTrainTestData missing iformation: \", df_check_na)\n",
    "\n",
    "\n",
    "print(\"\\nData sheet TrainTestData feature variable information:\")\n",
    "with pd.option_context('display.max_colwidth', None):\n",
    "    display(df_info)\n",
    "\n"
   ]
  },
  {
   "cell_type": "markdown",
   "id": "dd481006",
   "metadata": {},
   "source": [
    "## Feature selection and preprocessing "
   ]
  },
  {
   "cell_type": "code",
   "execution_count": null,
   "id": "fc03ea2c",
   "metadata": {},
   "outputs": [],
   "source": [
    "feature_columns = [col for col in grain_storage.columns if col != 'target_column_name']"
   ]
  }
 ],
 "metadata": {
  "kernelspec": {
   "display_name": "Python 3",
   "language": "python",
   "name": "python3"
  },
  "language_info": {
   "codemirror_mode": {
    "name": "ipython",
    "version": 3
   },
   "file_extension": ".py",
   "mimetype": "text/x-python",
   "name": "python",
   "nbconvert_exporter": "python",
   "pygments_lexer": "ipython3",
   "version": "3.10.12"
  }
 },
 "nbformat": 4,
 "nbformat_minor": 5
}
