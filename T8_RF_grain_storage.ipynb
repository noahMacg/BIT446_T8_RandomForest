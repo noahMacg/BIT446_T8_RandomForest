{
 "cells": [
  {
   "cell_type": "markdown",
   "id": "2d73be5f",
   "metadata": {},
   "source": [
    "**=====================================================**  \n",
    "# Grain Storage Analysis\n",
    "\n",
    "Noah MacGillivray | BIT-446 Assignment(T8) | Summer 2025 \n",
    "\n",
    "Random Forest \n",
    "\n",
    "**Environment:** Ubuntu, VS Code, Python Version: 3.10.12  \n",
    "\n",
    "**=====================================================**\n",
    "\n",
    "## Package Imports \n",
    "\n"
   ]
  },
  {
   "cell_type": "code",
   "execution_count": null,
   "id": "49522c7f",
   "metadata": {},
   "outputs": [],
   "source": []
  },
  {
   "cell_type": "code",
   "execution_count": 2,
   "id": "d0060336",
   "metadata": {},
   "outputs": [
    {
     "name": "stdout",
     "output_type": "stream",
     "text": [
      "Environment setup complete!\n"
     ]
    }
   ],
   "source": [
    "# Data manipulation and analysis\n",
    "import pandas as pd\n",
    "import numpy as np\n",
    "\n",
    "# File handling\n",
    "import os\n",
    "import openpyxl\n",
    "\n",
    "# Machine learning\n",
    "import sklearn\n",
    "\n",
    "# Data visualization\n",
    "import matplotlib.pyplot as plt\n",
    "import seaborn as sns\n",
    "\n",
    "# Display options\n",
    "pd.set_option('display.max_columns', None)\n",
    "\n",
    "print(\"Environment setup complete!\")"
   ]
  }
 ],
 "metadata": {
  "kernelspec": {
   "display_name": "Python 3",
   "language": "python",
   "name": "python3"
  },
  "language_info": {
   "codemirror_mode": {
    "name": "ipython",
    "version": 3
   },
   "file_extension": ".py",
   "mimetype": "text/x-python",
   "name": "python",
   "nbconvert_exporter": "python",
   "pygments_lexer": "ipython3",
   "version": "3.10.12"
  }
 },
 "nbformat": 4,
 "nbformat_minor": 5
}
