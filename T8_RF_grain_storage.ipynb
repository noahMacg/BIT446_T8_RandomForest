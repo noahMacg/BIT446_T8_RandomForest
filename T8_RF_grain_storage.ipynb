{
 "cells": [
  {
   "cell_type": "markdown",
   "id": "2d73be5f",
   "metadata": {},
   "source": [
    "# Grain Storage Analysis\n",
    "### Overview \n",
    "\n",
    "***Environment*** \n",
    " \n",
    "**Operating System:** Pop!_OS  \n",
    "**IDE:** VS Code with Jupyter extension  \n",
    "**Python Version:** 3.10.12  \n",
    "\n",
    "## Package Imports "
   ]
  },
  {
   "cell_type": "code",
   "execution_count": null,
   "id": "d0060336",
   "metadata": {},
   "outputs": [
    {
     "name": "stdout",
     "output_type": "stream",
     "text": [
      "Environment setup complete!\n",
      "Required packages imported: pandas, numpy, openpyxl, sklearn, os\n"
     ]
    }
   ],
   "source": [
    "# Data manipulation and analysis\n",
    "import pandas as pd\n",
    "import numpy as np\n",
    "\n",
    "# File handling\n",
    "import os\n",
    "import openpyxl\n",
    "\n",
    "# Machine learning\n",
    "import sklearn\n",
    "\n",
    "# Data visualization\n",
    "import matplotlib.pyplot as plt\n",
    "import seaborn as sns\n",
    "\n",
    "# Display options\n",
    "pd.set_option('display.max_columns', None)\n",
    "\n",
    "print(\"Environment setup complete!\")"
   ]
  }
 ],
 "metadata": {
  "kernelspec": {
   "display_name": "Python 3",
   "language": "python",
   "name": "python3"
  },
  "language_info": {
   "codemirror_mode": {
    "name": "ipython",
    "version": 3
   },
   "file_extension": ".py",
   "mimetype": "text/x-python",
   "name": "python",
   "nbconvert_exporter": "python",
   "pygments_lexer": "ipython3",
   "version": "3.10.12"
  }
 },
 "nbformat": 4,
 "nbformat_minor": 5
}
